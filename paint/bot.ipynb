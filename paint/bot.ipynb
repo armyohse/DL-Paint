{
 "cells": [
  {
   "cell_type": "code",
   "execution_count": 3,
   "metadata": {},
   "outputs": [
    {
     "name": "stderr",
     "output_type": "stream",
     "text": [
      "/usr/local/lib/python2.7/dist-packages/matplotlib/font_manager.py:273: UserWarning: Matplotlib is building the font cache using fc-list. This may take a moment.\n",
      "  warnings.warn('Matplotlib is building the font cache using fc-list. This may take a moment.')\n"
     ]
    }
   ],
   "source": [
    "import re\n",
    "import os\n",
    "import sys\n",
    "import exceptions\n",
    "import numpy as np\n",
    "from PIL import Image\n",
    "from tqdm import tqdm\n",
    "import tensorflow as tf\n",
    "import matplotlib.pyplot as plt"
   ]
  },
  {
   "cell_type": "code",
   "execution_count": 4,
   "metadata": {},
   "outputs": [],
   "source": [
    "%matplotlib inline"
   ]
  },
  {
   "cell_type": "markdown",
   "metadata": {},
   "source": [
    "---"
   ]
  },
  {
   "cell_type": "code",
   "execution_count": 5,
   "metadata": {
    "collapsed": true
   },
   "outputs": [],
   "source": [
    "# get files in directory\n",
    "def get_files(src_dir):\n",
    "    f = []\n",
    "    for (dirpath, dirnames, filenames) in os.walk(src_dir):\n",
    "        f.extend(filenames)\n",
    "        break\n",
    "    return f\n",
    "\n",
    "# create graph from pb file\n",
    "def create_graph(pb_file, sess):\n",
    "    with sess:        \n",
    "        with tf.gfile.FastGFile(pb_file, 'rb') as f:\n",
    "            graph_def = tf.GraphDef()\n",
    "            graph_def.ParseFromString(f.read())\n",
    "            tf.import_graph_def(graph_def, name='')\n",
    "    return sess.graph"
   ]
  },
  {
   "cell_type": "markdown",
   "metadata": {},
   "source": [
    "---"
   ]
  },
  {
   "cell_type": "code",
   "execution_count": 6,
   "metadata": {
    "collapsed": true
   },
   "outputs": [],
   "source": [
    "INPUT_DIR = 'out/crops'\n",
    "OUTPUT_DIR_BOTTLENECKS = 'out/bottlenecks'"
   ]
  },
  {
   "cell_type": "code",
   "execution_count": 7,
   "metadata": {},
   "outputs": [],
   "source": [
    "if not os.path.isdir(OUTPUT_DIR_BOTTLENECKS): os.makedirs(OUTPUT_DIR_BOTTLENECKS)"
   ]
  },
  {
   "cell_type": "code",
   "execution_count": 8,
   "metadata": {},
   "outputs": [],
   "source": [
    "# init tf sess\n",
    "sess = tf.Session()\n",
    "\n",
    "# restore inceptionv3 graph\n",
    "create_graph('/models/inception-v3.pb', sess)\n",
    "\n",
    "# summary writer for tensorboard\n",
    "summary_writer = tf.train.SummaryWriter('/tmp/tf-painters-v3', graph=sess.graph)"
   ]
  },
  {
   "cell_type": "code",
   "execution_count": 9,
   "metadata": {},
   "outputs": [],
   "source": [
    "# find tensors we're interested in\n",
    "bottneck_t = sess.graph.get_tensor_by_name('pool_3/_reshape:0')\n",
    "decode_jpeg_t = sess.graph.get_tensor_by_name('DecodeJpeg/contents:0')"
   ]
  },
  {
   "cell_type": "code",
   "execution_count": 29,
   "metadata": {},
   "outputs": [
    {
     "name": "stderr",
     "output_type": "stream",
     "text": [
      "100%|██████████| 516250/516250 [3:32:45<00:00, 40.44it/s]\n"
     ]
    }
   ],
   "source": [
    "for f in tqdm(files):\n",
    "    fn = re.findall(r'([^/]+)\\.jpg', f)[0]\n",
    "    bn_f = OUTPUT_DIR_BOTTLENECKS + '/' + fn + '.npy'\n",
    "    \n",
    "    if not os.path.isfile(bn_f):\n",
    "        image_data = tf.gfile.FastGFile(f, 'rb').read()\n",
    "        bn = sess.run(bottneck_t, {decode_jpeg_t: image_data})\n",
    "        bn = np.squeeze(bn)\n",
    "        np.save(bn_f, bn)"
   ]
  }
 ],
 "metadata": {
  "kernelspec": {
   "display_name": "Python 3",
   "language": "python",
   "name": "python3"
  },
  "language_info": {
   "codemirror_mode": {
    "name": "ipython",
    "version": 3
   },
   "file_extension": ".py",
   "mimetype": "text/x-python",
   "name": "python",
   "nbconvert_exporter": "python",
   "pygments_lexer": "ipython3",
   "version": "3.6.1"
  }
 },
 "nbformat": 4,
 "nbformat_minor": 1
}
