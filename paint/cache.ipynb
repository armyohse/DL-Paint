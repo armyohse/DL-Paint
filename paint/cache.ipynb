{
 "cells": [
  {
   "cell_type": "code",
   "execution_count": 23,
   "metadata": {
    "collapsed": true
   },
   "outputs": [],
   "source": [
    "import re\n",
    "import os\n",
    "import sys\n",
    "import exceptions\n",
    "import numpy as np\n",
    "from PIL import Image\n",
    "from tqdm import tqdm\n",
    "import tensorflow as tf\n",
    "import matplotlib.pyplot as plt\n",
    "import thread\n",
    "import time\n",
    "\n",
    "%matplotlib inline"
   ]
  },
  {
   "cell_type": "code",
   "execution_count": 24,
   "metadata": {
    "collapsed": true
   },
   "outputs": [],
   "source": [
    "BNS_DIR = 'out/bottlenecks'\n",
    "META_DIR = 'out/meta'\n",
    "INPUT_DIRS = ['/Users/seyoungoh/Downloads/final/train', '/Users/seyoungoh/Downloads/final/test']\n",
    "OUTPUT_FILE_HSS = 'out/halfsamples.npy'\n",
    "DPI_DIV = 8.333333"
   ]
  },
  {
   "cell_type": "code",
   "execution_count": 25,
   "metadata": {
    "collapsed": true
   },
   "outputs": [],
   "source": [
    "# get files in directory\n",
    "def get_files(src_dir):\n",
    "    f = []\n",
    "    for (dirpath, dirnames, filenames) in os.walk(src_dir):\n",
    "        f.extend(filenames)\n",
    "        break\n",
    "    return f\n",
    "\n",
    "def load_bottlenecks(fid):\n",
    "    bn_t = np.load(BNS_DIR + '/' + str(fid) + '.npy')\n",
    "    bn_a = np.load(BNS_DIR + '/' + str(fid) + '-a.npy')\n",
    "    bn_b = np.load(BNS_DIR + '/' + str(fid) + '-b.npy')\n",
    "    bn_c = np.load(BNS_DIR + '/' + str(fid) + '-c.npy')\n",
    "    bn_d = np.load(BNS_DIR + '/' + str(fid) + '-d.npy')\n",
    "    return bn_t, bn_a, bn_b, bn_c, bn_d\n",
    "\n",
    "def get_hs(fid):\n",
    "    meta = np.load(META_DIR + '/' + str(fid) + '.npy')\n",
    "    meta[0] /= DPI_DIV\n",
    "    meta[1] /= DPI_DIV\n",
    "    bns = np.concatenate(load_bottlenecks(fid)).astype(np.float32)\n",
    "    return np.concatenate((meta, bns))"
   ]
  },
  {
   "cell_type": "code",
   "execution_count": 26,
   "metadata": {
    "collapsed": true
   },
   "outputs": [],
   "source": [
    "files = []\n",
    "files = [INPUT_DIRS[0] + '/' + f for f in get_files(INPUT_DIRS[0])]\n",
    "files.extend([INPUT_DIRS[1] + '/' + f for f in get_files(INPUT_DIRS[1])])"
   ]
  },
  {
   "cell_type": "code",
   "execution_count": null,
   "metadata": {
    "collapsed": true
   },
   "outputs": [],
   "source": []
  },
  {
   "cell_type": "code",
   "execution_count": 27,
   "metadata": {
    "collapsed": true
   },
   "outputs": [],
   "source": [
    "def cache_hss(files):\n",
    "    hss = {}\n",
    "    \n",
    "    for f in tqdm(files):\n",
    "        m = re.findall(r'(\\d+)\\.jpg$', f)\n",
    "\n",
    "        if m:\n",
    "            fid = int(m[0])\n",
    "            hs = get_hs(fid)\n",
    "            hss[fid] = hs\n",
    "    \n",
    "    print ('Saving to:', OUTPUT_FILE_HSS)\n",
    "    np.save(OUTPUT_FILE_HSS, hss)"
   ]
  },
  {
   "cell_type": "code",
   "execution_count": 28,
   "metadata": {},
   "outputs": [
    {
     "name": "stderr",
     "output_type": "stream",
     "text": [
      "100%|██████████| 103507/103507 [01:25<00:00, 1208.00it/s]\n"
     ]
    },
    {
     "name": "stdout",
     "output_type": "stream",
     "text": [
      "Saving to: out/halfsamples.npy\n"
     ]
    }
   ],
   "source": [
    "cache_hss(files)"
   ]
  }
 ],
 "metadata": {
  "kernelspec": {
   "display_name": "Python 3",
   "language": "python",
   "name": "python3"
  },
  "language_info": {
   "codemirror_mode": {
    "name": "ipython",
    "version": 3
   },
   "file_extension": ".py",
   "mimetype": "text/x-python",
   "name": "python",
   "nbconvert_exporter": "python",
   "pygments_lexer": "ipython3",
   "version": "3.6.1"
  }
 },
 "nbformat": 4,
 "nbformat_minor": 1
}
