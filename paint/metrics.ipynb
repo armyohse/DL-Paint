{
 "cells": [
  {
   "cell_type": "code",
   "execution_count": 1,
   "metadata": {},
   "outputs": [
    {
     "name": "stderr",
     "output_type": "stream",
     "text": [
      "/usr/local/lib/python2.7/dist-packages/matplotlib/font_manager.py:273: UserWarning: Matplotlib is building the font cache using fc-list. This may take a moment.\n",
      "  warnings.warn('Matplotlib is building the font cache using fc-list. This may take a moment.')\n"
     ]
    }
   ],
   "source": [
    "import re\n",
    "import os\n",
    "import sys\n",
    "import exceptions\n",
    "import numpy as np\n",
    "from PIL import Image\n",
    "from tqdm import tqdm\n",
    "import tensorflow as tf\n",
    "import matplotlib.pyplot as plt\n",
    "import thread\n",
    "import time\n",
    "\n",
    "%matplotlib inline"
   ]
  },
  {
   "cell_type": "code",
   "execution_count": 2,
   "metadata": {
    "collapsed": true
   },
   "outputs": [],
   "source": [
    "# get files in directory\n",
    "def get_files(src_dir):\n",
    "    f = []\n",
    "    for (dirpath, dirnames, filenames) in os.walk(src_dir):\n",
    "        f.extend(filenames)\n",
    "        break\n",
    "    return f\n",
    "\n",
    "# create graph from pb file\n",
    "def create_graph(pb_file, sess):\n",
    "    with sess:        \n",
    "        with tf.gfile.FastGFile(pb_file, 'rb') as f:\n",
    "            graph_def = tf.GraphDef()\n",
    "            graph_def.ParseFromString(f.read())\n",
    "            tf.import_graph_def(graph_def, name='')\n",
    "    return sess.graph\n",
    "\n",
    "def get_image_metrics(f, dpi_scale=72):\n",
    "    \n",
    "    if os.path.isfile(f + '.correct.jpg'): \n",
    "        f += '.correct.jpg'\n",
    "    \n",
    "    i = Image.open(f)\n",
    "    info = i.info\n",
    "    \n",
    "    if 'dpi' in info:\n",
    "        dpi = info['dpi']\n",
    "    elif 'jfif_density' in info:\n",
    "        dpi = info['jfif_density']\n",
    "    else:\n",
    "        dpi = (0, 0)\n",
    "    \n",
    "    bb = i.getbbox()[2:]\n",
    "    \n",
    "    return \\\n",
    "        float(dpi[0]) / dpi_scale,\\\n",
    "        float(dpi[1]) / dpi_scale,\\\n",
    "        float(bb[0]) / float(bb[1])"
   ]
  },
  {
   "cell_type": "code",
   "execution_count": 3,
   "metadata": {
    "collapsed": true
   },
   "outputs": [],
   "source": [
    "INPUT_DIRS = ['/Users/seyoungoh/Downloads/final/train', '/Users/seyoungoh/Downloads/final/test']\n",
    "OUTPUT_DIR_META = 'out/meta'"
   ]
  },
  {
   "cell_type": "code",
   "execution_count": 4,
   "metadata": {
    "collapsed": true
   },
   "outputs": [],
   "source": [
    "if not os.path.isdir(OUTPUT_DIR_META): os.makedirs(OUTPUT_DIR_META)"
   ]
  },
  {
   "cell_type": "code",
   "execution_count": 5,
   "metadata": {
    "collapsed": true
   },
   "outputs": [],
   "source": [
    "files = []\n",
    "files = [INPUT_DIRS[0] + '/' + f for f in get_files(INPUT_DIRS[0])]\n",
    "files.extend([INPUT_DIRS[1] + '/' + f for f in get_files(INPUT_DIRS[1])])"
   ]
  },
  {
   "cell_type": "code",
   "execution_count": 6,
   "metadata": {
    "collapsed": true
   },
   "outputs": [],
   "source": [
    "def calc_metrics(files):\n",
    "    for f in files:\n",
    "        m = re.findall(r'(\\d+)\\.jpg$', f)\n",
    "\n",
    "        if m:\n",
    "            fid = m[0]\n",
    "            f_meta = OUTPUT_DIR_META + '/' + fid + '.npy'\n",
    "\n",
    "            if not os.path.isfile(f_meta):\n",
    "                metrics = get_image_metrics(f)\n",
    "                metrics = np.array(metrics, dtype=np.float32)\n",
    "                np.save(f_meta, metrics)"
   ]
  },
  {
   "cell_type": "code",
   "execution_count": 7,
   "metadata": {},
   "outputs": [
    {
     "name": "stdout",
     "output_type": "stream",
     "text": [
      "139940083848960\n",
      "139940075456256\n",
      "139940067063552\n",
      "139940058670848\n"
     ]
    }
   ],
   "source": [
    "print (thread.start_new_thread(calc_metrics, (files[0:25000],)))\n",
    "print (thread.start_new_thread(calc_metrics, (files[25000:50000],)))\n",
    "print (thread.start_new_thread(calc_metrics, (files[50000:75000],)))\n",
    "print (thread.start_new_thread(calc_metrics, (files[75000:],)))"
   ]
  },
  {
   "cell_type": "code",
   "execution_count": null,
   "metadata": {
    "collapsed": true
   },
   "outputs": [],
   "source": []
  }
 ],
 "metadata": {
  "kernelspec": {
   "display_name": "Python 3",
   "language": "python",
   "name": "python3"
  },
  "language_info": {
   "codemirror_mode": {
    "name": "ipython",
    "version": 3
   },
   "file_extension": ".py",
   "mimetype": "text/x-python",
   "name": "python",
   "nbconvert_exporter": "python",
   "pygments_lexer": "ipython3",
   "version": "3.6.1"
  }
 },
 "nbformat": 4,
 "nbformat_minor": 1
}
